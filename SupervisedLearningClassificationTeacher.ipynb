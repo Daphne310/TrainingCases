{
 "cells": [
  {
   "cell_type": "markdown",
   "metadata": {},
   "source": [
    "## Supervised learning: classification\n",
    "\n",
    "In this exercise we will work with two types of classification models. To do so, we will make use of functions from the SKLEARN library. This library contains a lot of machine learning algorithms that are used in practise, so it is very valuable to familiarize yourself with the SKLEARN library."
   ]
  },
  {
   "cell_type": "markdown",
   "metadata": {},
   "source": [
    "## Libraries"
   ]
  },
  {
   "cell_type": "code",
   "execution_count": 43,
   "metadata": {},
   "outputs": [],
   "source": [
    "import numpy\n",
    "import pandas as pd\n",
    "\n",
    "from IPython.display import SVG\n",
    "from graphviz import Source\n",
    "from IPython.display import display\n",
    "\n",
    "from sklearn import tree \n",
    "from sklearn.neighbors import KNeighborsClassifier\n",
    "from sklearn.metrics import accuracy_score\n",
    "from sklearn.model_selection import train_test_split\n"
   ]
  },
  {
   "cell_type": "markdown",
   "metadata": {},
   "source": [
    "## Read the data"
   ]
  },
  {
   "cell_type": "code",
   "execution_count": 44,
   "metadata": {},
   "outputs": [
    {
     "data": {
      "text/html": [
       "<div>\n",
       "<style scoped>\n",
       "    .dataframe tbody tr th:only-of-type {\n",
       "        vertical-align: middle;\n",
       "    }\n",
       "\n",
       "    .dataframe tbody tr th {\n",
       "        vertical-align: top;\n",
       "    }\n",
       "\n",
       "    .dataframe thead th {\n",
       "        text-align: right;\n",
       "    }\n",
       "</style>\n",
       "<table border=\"1\" class=\"dataframe\">\n",
       "  <thead>\n",
       "    <tr style=\"text-align: right;\">\n",
       "      <th></th>\n",
       "      <th>sepal_length_cm</th>\n",
       "      <th>sepal_width_cm</th>\n",
       "      <th>petal_length_cm</th>\n",
       "      <th>petal_width_cm</th>\n",
       "      <th>class</th>\n",
       "    </tr>\n",
       "  </thead>\n",
       "  <tbody>\n",
       "    <tr>\n",
       "      <th>0</th>\n",
       "      <td>5.1</td>\n",
       "      <td>3.5</td>\n",
       "      <td>1.4</td>\n",
       "      <td>0.2</td>\n",
       "      <td>Iris-setosa</td>\n",
       "    </tr>\n",
       "    <tr>\n",
       "      <th>1</th>\n",
       "      <td>4.9</td>\n",
       "      <td>3.0</td>\n",
       "      <td>1.4</td>\n",
       "      <td>0.2</td>\n",
       "      <td>Iris-setosa</td>\n",
       "    </tr>\n",
       "    <tr>\n",
       "      <th>2</th>\n",
       "      <td>4.7</td>\n",
       "      <td>3.2</td>\n",
       "      <td>1.3</td>\n",
       "      <td>0.2</td>\n",
       "      <td>Iris-setosa</td>\n",
       "    </tr>\n",
       "    <tr>\n",
       "      <th>3</th>\n",
       "      <td>4.6</td>\n",
       "      <td>3.1</td>\n",
       "      <td>1.5</td>\n",
       "      <td>0.2</td>\n",
       "      <td>Iris-setosa</td>\n",
       "    </tr>\n",
       "    <tr>\n",
       "      <th>4</th>\n",
       "      <td>5.0</td>\n",
       "      <td>3.6</td>\n",
       "      <td>1.4</td>\n",
       "      <td>0.2</td>\n",
       "      <td>Iris-setosa</td>\n",
       "    </tr>\n",
       "  </tbody>\n",
       "</table>\n",
       "</div>"
      ],
      "text/plain": [
       "   sepal_length_cm  sepal_width_cm  petal_length_cm  petal_width_cm  \\\n",
       "0              5.1             3.5              1.4             0.2   \n",
       "1              4.9             3.0              1.4             0.2   \n",
       "2              4.7             3.2              1.3             0.2   \n",
       "3              4.6             3.1              1.5             0.2   \n",
       "4              5.0             3.6              1.4             0.2   \n",
       "\n",
       "         class  \n",
       "0  Iris-setosa  \n",
       "1  Iris-setosa  \n",
       "2  Iris-setosa  \n",
       "3  Iris-setosa  \n",
       "4  Iris-setosa  "
      ]
     },
     "execution_count": 44,
     "metadata": {},
     "output_type": "execute_result"
    }
   ],
   "source": [
    "iris = pd.read_csv('https://raw.githubusercontent.com/Daphne310/TrainingCases/master/iris-data-training.csv')\n",
    "iris.head()"
   ]
  },
  {
   "cell_type": "markdown",
   "metadata": {},
   "source": [
    "## Data preparation \n",
    "\n",
    "We just loaded the iris dataset. It contains data of three types of irisses. The features are measures of the lenght and width of the sepal and petal. Let's first split the data in features and targets. The iris dataset is a well-defined set for educational purposes, but in practise you will have to define the features and targets before this step.  "
   ]
  },
  {
   "cell_type": "code",
   "execution_count": 45,
   "metadata": {},
   "outputs": [],
   "source": [
    "data = iris[['sepal_length_cm', 'sepal_width_cm',\n",
    "                             'petal_length_cm', 'petal_width_cm']].values\n",
    "target = iris['class'].values"
   ]
  },
  {
   "cell_type": "markdown",
   "metadata": {},
   "source": [
    "To get a better understanding of the data, we will print the first example. "
   ]
  },
  {
   "cell_type": "code",
   "execution_count": 46,
   "metadata": {},
   "outputs": [
    {
     "name": "stdout",
     "output_type": "stream",
     "text": [
      "The features of the first example are:  [5.1 3.5 1.4 0.2]\n"
     ]
    }
   ],
   "source": [
    "print('The features of the first example are: ', data[0])"
   ]
  },
  {
   "cell_type": "code",
   "execution_count": 47,
   "metadata": {},
   "outputs": [
    {
     "name": "stdout",
     "output_type": "stream",
     "text": [
      "The label of the first example is:  Iris-setosa\n"
     ]
    }
   ],
   "source": [
    "print('The label of the first example is: ', target[0])"
   ]
  },
  {
   "cell_type": "markdown",
   "metadata": {},
   "source": [
    "The next thing to do is to create a trainset and a testset."
   ]
  },
  {
   "cell_type": "code",
   "execution_count": 122,
   "metadata": {},
   "outputs": [
    {
     "name": "stdout",
     "output_type": "stream",
     "text": [
      "The number of measurements are:  150\n",
      "The number of training measurements are:  100\n",
      "The number of test measurements are:  50\n"
     ]
    }
   ],
   "source": [
    "X_train, X_test, y_train, y_test = train_test_split(data, target, \n",
    "                                                  test_size=1/3, random_state=0)\n",
    "\n",
    "print('The number of measurements are: ', data.shape[0])\n",
    "print('The number of training measurements are: ',X_train.shape[0])\n",
    "print('The number of test measurements are: ',X_test.shape[0])"
   ]
  },
  {
   "cell_type": "markdown",
   "metadata": {},
   "source": [
    "## Decision Tree Classifier "
   ]
  },
  {
   "cell_type": "markdown",
   "metadata": {},
   "source": [
    "To construct the classifier, we follow a few simple steps: "
   ]
  },
  {
   "cell_type": "code",
   "execution_count": 123,
   "metadata": {},
   "outputs": [
    {
     "data": {
      "image/svg+xml": [
       "<svg height=\"433pt\" viewBox=\"0.00 0.00 610.00 433.00\" width=\"610pt\" xmlns=\"http://www.w3.org/2000/svg\" xmlns:xlink=\"http://www.w3.org/1999/xlink\">\n",
       "<g class=\"graph\" id=\"graph0\" transform=\"scale(1 1) rotate(0) translate(4 429)\">\n",
       "<title>Tree</title>\n",
       "<polygon fill=\"white\" points=\"-4,4 -4,-429 606,-429 606,4 -4,4\" stroke=\"none\"/>\n",
       "<!-- 0 -->\n",
       "<g class=\"node\" id=\"node1\"><title>0</title>\n",
       "<polygon fill=\"#399de5\" fill-opacity=\"0.015686\" points=\"292,-425 138,-425 138,-342 292,-342 292,-425\" stroke=\"black\"/>\n",
       "<text font-family=\"Times New Roman,serif\" font-size=\"14.00\" text-anchor=\"middle\" x=\"215\" y=\"-409.8\">petal_width_cm &lt;= 0.75</text>\n",
       "<text font-family=\"Times New Roman,serif\" font-size=\"14.00\" text-anchor=\"middle\" x=\"215\" y=\"-394.8\">gini = 0.687</text>\n",
       "<text font-family=\"Times New Roman,serif\" font-size=\"14.00\" text-anchor=\"middle\" x=\"215\" y=\"-379.8\">samples = 100</text>\n",
       "<text font-family=\"Times New Roman,serif\" font-size=\"14.00\" text-anchor=\"middle\" x=\"215\" y=\"-364.8\">value = [34, 27, 35, 4]</text>\n",
       "<text font-family=\"Times New Roman,serif\" font-size=\"14.00\" text-anchor=\"middle\" x=\"215\" y=\"-349.8\">class = Iris-versicolor</text>\n",
       "</g>\n",
       "<!-- 1 -->\n",
       "<g class=\"node\" id=\"node2\"><title>1</title>\n",
       "<polygon fill=\"#e58139\" points=\"199,-298.5 73,-298.5 73,-230.5 199,-230.5 199,-298.5\" stroke=\"black\"/>\n",
       "<text font-family=\"Times New Roman,serif\" font-size=\"14.00\" text-anchor=\"middle\" x=\"136\" y=\"-283.3\">gini = 0.0</text>\n",
       "<text font-family=\"Times New Roman,serif\" font-size=\"14.00\" text-anchor=\"middle\" x=\"136\" y=\"-268.3\">samples = 34</text>\n",
       "<text font-family=\"Times New Roman,serif\" font-size=\"14.00\" text-anchor=\"middle\" x=\"136\" y=\"-253.3\">value = [34, 0, 0, 0]</text>\n",
       "<text font-family=\"Times New Roman,serif\" font-size=\"14.00\" text-anchor=\"middle\" x=\"136\" y=\"-238.3\">class = Iris-setosa</text>\n",
       "</g>\n",
       "<!-- 0&#45;&gt;1 -->\n",
       "<g class=\"edge\" id=\"edge1\"><title>0-&gt;1</title>\n",
       "<path d=\"M187.591,-341.907C179.992,-330.652 171.731,-318.418 164.093,-307.106\" fill=\"none\" stroke=\"black\"/>\n",
       "<polygon fill=\"black\" points=\"166.891,-304.996 158.395,-298.667 161.09,-308.913 166.891,-304.996\" stroke=\"black\"/>\n",
       "<text font-family=\"Times New Roman,serif\" font-size=\"14.00\" text-anchor=\"middle\" x=\"153.636\" y=\"-319.51\">True</text>\n",
       "</g>\n",
       "<!-- 2 -->\n",
       "<g class=\"node\" id=\"node3\"><title>2</title>\n",
       "<polygon fill=\"#399de5\" fill-opacity=\"0.203922\" points=\"373,-306 217,-306 217,-223 373,-223 373,-306\" stroke=\"black\"/>\n",
       "<text font-family=\"Times New Roman,serif\" font-size=\"14.00\" text-anchor=\"middle\" x=\"295\" y=\"-290.8\">petal_length_cm &lt;= 4.95</text>\n",
       "<text font-family=\"Times New Roman,serif\" font-size=\"14.00\" text-anchor=\"middle\" x=\"295\" y=\"-275.8\">gini = 0.548</text>\n",
       "<text font-family=\"Times New Roman,serif\" font-size=\"14.00\" text-anchor=\"middle\" x=\"295\" y=\"-260.8\">samples = 66</text>\n",
       "<text font-family=\"Times New Roman,serif\" font-size=\"14.00\" text-anchor=\"middle\" x=\"295\" y=\"-245.8\">value = [0, 27, 35, 4]</text>\n",
       "<text font-family=\"Times New Roman,serif\" font-size=\"14.00\" text-anchor=\"middle\" x=\"295\" y=\"-230.8\">class = Iris-versicolor</text>\n",
       "</g>\n",
       "<!-- 0&#45;&gt;2 -->\n",
       "<g class=\"edge\" id=\"edge2\"><title>0-&gt;2</title>\n",
       "<path d=\"M242.756,-341.907C248.837,-333.014 255.336,-323.509 261.611,-314.331\" fill=\"none\" stroke=\"black\"/>\n",
       "<polygon fill=\"black\" points=\"264.538,-316.251 267.293,-306.021 258.76,-312.3 264.538,-316.251\" stroke=\"black\"/>\n",
       "<text font-family=\"Times New Roman,serif\" font-size=\"14.00\" text-anchor=\"middle\" x=\"271.908\" y=\"-326.891\">False</text>\n",
       "</g>\n",
       "<!-- 3 -->\n",
       "<g class=\"node\" id=\"node4\"><title>3</title>\n",
       "<polygon fill=\"#47e539\" fill-opacity=\"0.756863\" points=\"286,-187 132,-187 132,-104 286,-104 286,-187\" stroke=\"black\"/>\n",
       "<text font-family=\"Times New Roman,serif\" font-size=\"14.00\" text-anchor=\"middle\" x=\"209\" y=\"-171.8\">petal_width_cm &lt;= 1.65</text>\n",
       "<text font-family=\"Times New Roman,serif\" font-size=\"14.00\" text-anchor=\"middle\" x=\"209\" y=\"-156.8\">gini = 0.356</text>\n",
       "<text font-family=\"Times New Roman,serif\" font-size=\"14.00\" text-anchor=\"middle\" x=\"209\" y=\"-141.8\">samples = 33</text>\n",
       "<text font-family=\"Times New Roman,serif\" font-size=\"14.00\" text-anchor=\"middle\" x=\"209\" y=\"-126.8\">value = [0, 26, 3, 4]</text>\n",
       "<text font-family=\"Times New Roman,serif\" font-size=\"14.00\" text-anchor=\"middle\" x=\"209\" y=\"-111.8\">class = Iris-setossa</text>\n",
       "</g>\n",
       "<!-- 2&#45;&gt;3 -->\n",
       "<g class=\"edge\" id=\"edge3\"><title>2-&gt;3</title>\n",
       "<path d=\"M265.163,-222.907C258.626,-214.014 251.639,-204.509 244.893,-195.331\" fill=\"none\" stroke=\"black\"/>\n",
       "<polygon fill=\"black\" points=\"247.527,-193.005 238.785,-187.021 241.887,-197.151 247.527,-193.005\" stroke=\"black\"/>\n",
       "</g>\n",
       "<!-- 6 -->\n",
       "<g class=\"node\" id=\"node7\"><title>6</title>\n",
       "<polygon fill=\"#399de5\" fill-opacity=\"0.968627\" points=\"458,-187 304,-187 304,-104 458,-104 458,-187\" stroke=\"black\"/>\n",
       "<text font-family=\"Times New Roman,serif\" font-size=\"14.00\" text-anchor=\"middle\" x=\"381\" y=\"-171.8\">petal_width_cm &lt;= 1.75</text>\n",
       "<text font-family=\"Times New Roman,serif\" font-size=\"14.00\" text-anchor=\"middle\" x=\"381\" y=\"-156.8\">gini = 0.059</text>\n",
       "<text font-family=\"Times New Roman,serif\" font-size=\"14.00\" text-anchor=\"middle\" x=\"381\" y=\"-141.8\">samples = 33</text>\n",
       "<text font-family=\"Times New Roman,serif\" font-size=\"14.00\" text-anchor=\"middle\" x=\"381\" y=\"-126.8\">value = [0, 1, 32, 0]</text>\n",
       "<text font-family=\"Times New Roman,serif\" font-size=\"14.00\" text-anchor=\"middle\" x=\"381\" y=\"-111.8\">class = Iris-versicolor</text>\n",
       "</g>\n",
       "<!-- 2&#45;&gt;6 -->\n",
       "<g class=\"edge\" id=\"edge6\"><title>2-&gt;6</title>\n",
       "<path d=\"M324.837,-222.907C331.374,-214.014 338.361,-204.509 345.107,-195.331\" fill=\"none\" stroke=\"black\"/>\n",
       "<polygon fill=\"black\" points=\"348.113,-197.151 351.215,-187.021 342.473,-193.005 348.113,-197.151\" stroke=\"black\"/>\n",
       "</g>\n",
       "<!-- 4 -->\n",
       "<g class=\"node\" id=\"node5\"><title>4</title>\n",
       "<polygon fill=\"#47e539\" fill-opacity=\"0.839216\" points=\"126,-68 0,-68 0,-0 126,-0 126,-68\" stroke=\"black\"/>\n",
       "<text font-family=\"Times New Roman,serif\" font-size=\"14.00\" text-anchor=\"middle\" x=\"63\" y=\"-52.8\">gini = 0.238</text>\n",
       "<text font-family=\"Times New Roman,serif\" font-size=\"14.00\" text-anchor=\"middle\" x=\"63\" y=\"-37.8\">samples = 29</text>\n",
       "<text font-family=\"Times New Roman,serif\" font-size=\"14.00\" text-anchor=\"middle\" x=\"63\" y=\"-22.8\">value = [0, 25, 0, 4]</text>\n",
       "<text font-family=\"Times New Roman,serif\" font-size=\"14.00\" text-anchor=\"middle\" x=\"63\" y=\"-7.8\">class = Iris-setossa</text>\n",
       "</g>\n",
       "<!-- 3&#45;&gt;4 -->\n",
       "<g class=\"edge\" id=\"edge4\"><title>3-&gt;4</title>\n",
       "<path d=\"M154.635,-103.726C141.866,-94.1494 128.281,-83.9611 115.592,-74.4438\" fill=\"none\" stroke=\"black\"/>\n",
       "<polygon fill=\"black\" points=\"117.499,-71.4996 107.399,-68.2996 113.299,-77.0996 117.499,-71.4996\" stroke=\"black\"/>\n",
       "</g>\n",
       "<!-- 5 -->\n",
       "<g class=\"node\" id=\"node6\"><title>5</title>\n",
       "<polygon fill=\"#399de5\" fill-opacity=\"0.666667\" points=\"282,-68 144,-68 144,-0 282,-0 282,-68\" stroke=\"black\"/>\n",
       "<text font-family=\"Times New Roman,serif\" font-size=\"14.00\" text-anchor=\"middle\" x=\"213\" y=\"-52.8\">gini = 0.375</text>\n",
       "<text font-family=\"Times New Roman,serif\" font-size=\"14.00\" text-anchor=\"middle\" x=\"213\" y=\"-37.8\">samples = 4</text>\n",
       "<text font-family=\"Times New Roman,serif\" font-size=\"14.00\" text-anchor=\"middle\" x=\"213\" y=\"-22.8\">value = [0, 1, 3, 0]</text>\n",
       "<text font-family=\"Times New Roman,serif\" font-size=\"14.00\" text-anchor=\"middle\" x=\"213\" y=\"-7.8\">class = Iris-versicolor</text>\n",
       "</g>\n",
       "<!-- 3&#45;&gt;5 -->\n",
       "<g class=\"edge\" id=\"edge5\"><title>3-&gt;5</title>\n",
       "<path d=\"M210.489,-103.726C210.789,-95.5175 211.106,-86.8595 211.409,-78.56\" fill=\"none\" stroke=\"black\"/>\n",
       "<polygon fill=\"black\" points=\"214.916,-78.4207 211.784,-68.2996 207.921,-78.1651 214.916,-78.4207\" stroke=\"black\"/>\n",
       "</g>\n",
       "<!-- 7 -->\n",
       "<g class=\"node\" id=\"node8\"><title>7</title>\n",
       "<polygon fill=\"#399de5\" fill-opacity=\"0.498039\" points=\"446,-68 308,-68 308,-0 446,-0 446,-68\" stroke=\"black\"/>\n",
       "<text font-family=\"Times New Roman,serif\" font-size=\"14.00\" text-anchor=\"middle\" x=\"377\" y=\"-52.8\">gini = 0.444</text>\n",
       "<text font-family=\"Times New Roman,serif\" font-size=\"14.00\" text-anchor=\"middle\" x=\"377\" y=\"-37.8\">samples = 3</text>\n",
       "<text font-family=\"Times New Roman,serif\" font-size=\"14.00\" text-anchor=\"middle\" x=\"377\" y=\"-22.8\">value = [0, 1, 2, 0]</text>\n",
       "<text font-family=\"Times New Roman,serif\" font-size=\"14.00\" text-anchor=\"middle\" x=\"377\" y=\"-7.8\">class = Iris-versicolor</text>\n",
       "</g>\n",
       "<!-- 6&#45;&gt;7 -->\n",
       "<g class=\"edge\" id=\"edge7\"><title>6-&gt;7</title>\n",
       "<path d=\"M379.511,-103.726C379.211,-95.5175 378.894,-86.8595 378.591,-78.56\" fill=\"none\" stroke=\"black\"/>\n",
       "<polygon fill=\"black\" points=\"382.079,-78.1651 378.216,-68.2996 375.084,-78.4207 382.079,-78.1651\" stroke=\"black\"/>\n",
       "</g>\n",
       "<!-- 8 -->\n",
       "<g class=\"node\" id=\"node9\"><title>8</title>\n",
       "<polygon fill=\"#399de5\" points=\"602,-68 464,-68 464,-0 602,-0 602,-68\" stroke=\"black\"/>\n",
       "<text font-family=\"Times New Roman,serif\" font-size=\"14.00\" text-anchor=\"middle\" x=\"533\" y=\"-52.8\">gini = 0.0</text>\n",
       "<text font-family=\"Times New Roman,serif\" font-size=\"14.00\" text-anchor=\"middle\" x=\"533\" y=\"-37.8\">samples = 30</text>\n",
       "<text font-family=\"Times New Roman,serif\" font-size=\"14.00\" text-anchor=\"middle\" x=\"533\" y=\"-22.8\">value = [0, 0, 30, 0]</text>\n",
       "<text font-family=\"Times New Roman,serif\" font-size=\"14.00\" text-anchor=\"middle\" x=\"533\" y=\"-7.8\">class = Iris-versicolor</text>\n",
       "</g>\n",
       "<!-- 6&#45;&gt;8 -->\n",
       "<g class=\"edge\" id=\"edge8\"><title>6-&gt;8</title>\n",
       "<path d=\"M437.599,-103.726C451.02,-94.0582 465.305,-83.767 478.624,-74.172\" fill=\"none\" stroke=\"black\"/>\n",
       "<polygon fill=\"black\" points=\"480.708,-76.9846 486.776,-68.2996 476.616,-71.305 480.708,-76.9846\" stroke=\"black\"/>\n",
       "</g>\n",
       "</g>\n",
       "</svg>"
      ],
      "text/plain": [
       "<IPython.core.display.SVG object>"
      ]
     },
     "metadata": {},
     "output_type": "display_data"
    }
   ],
   "source": [
    "#STEP 1: Choose the type of classifier \n",
    "DTalgorithm = tree.DecisionTreeClassifier(random_state=0)\n",
    "\n",
    "#STEP 2: Fit the model to the train data\n",
    "DTalgorithm = DTalgorithm.fit(X_train, y_train)\n",
    "\n",
    "#STEP 3: Predict the labels of the test data \n",
    "Pred_DT = DTalgorithm.predict(X_test)\n",
    "\n",
    "graph = Source(tree.export_graphviz(DTalgorithm, out_file=None\n",
    "   , feature_names=list(iris.columns[:-1]), class_names=pd.unique(iris['class']) \n",
    "   , filled = True))\n",
    "display(SVG(graph.pipe(format='svg')))"
   ]
  },
  {
   "cell_type": "markdown",
   "metadata": {},
   "source": [
    "Congratulations! You just made a predictive algorithm!\n",
    "\n",
    "The variable 'Pred_DT' holds the predictions made by the algorithm. Now let's take a look at your performance using classification accuracy. "
   ]
  },
  {
   "cell_type": "code",
   "execution_count": 124,
   "metadata": {},
   "outputs": [
    {
     "name": "stdout",
     "output_type": "stream",
     "text": [
      "The Decision Tree Classifier reached a Classification Accuracy of:  0.94\n"
     ]
    }
   ],
   "source": [
    "DT_CA = accuracy_score(y_test, Pred_DT) \n",
    "\n",
    "print('The Decision Tree Classifier reached a Classification Accuracy of: ', DT_CA)"
   ]
  },
  {
   "cell_type": "raw",
   "metadata": {},
   "source": [
    "Did you get a good score? \n",
    "\n",
    "We are not done yet, though. We might be able to reach a better performance by tuning the parameters. The Decision Tree Classifier has lots of parameters, but one of them is: \n",
    " \n",
    "- Minimal Split: The minimum number of samples required to split an internal node  \n",
    "- Maximal depth (how deep the tree should go). \n",
    "- Maximum number of features \n",
    "\n",
    "Go back to the code in STEP 1 and play around with the parameters. \n",
    "\n",
    "For example: DTalgorithm = tree.DecisionTreeClassifier(min_samples_split = 10, max_depth=7, max_features=3) \n",
    "\n",
    "Check the impact this has on the classification accuracy. "
   ]
  },
  {
   "cell_type": "markdown",
   "metadata": {},
   "source": [
    "## K-Nearest Neighbors "
   ]
  },
  {
   "cell_type": "markdown",
   "metadata": {},
   "source": [
    "To construct the classifier, we follow a few simple steps: "
   ]
  },
  {
   "cell_type": "code",
   "execution_count": 125,
   "metadata": {},
   "outputs": [],
   "source": [
    "#STEP 1: Choose the type of classifier \n",
    "KNNalgorithm = KNeighborsClassifier(n_neighbors = 3)\n",
    "\n",
    "#STEP 2: Fit the model to the train data\n",
    "KNNalgorithm = KNNalgorithm.fit(X_train, y_train)\n",
    "\n",
    "#STEP 3: Predict the labels of the test data \n",
    "Pred_KNN = KNNalgorithm.predict(X_test)"
   ]
  },
  {
   "cell_type": "markdown",
   "metadata": {},
   "source": [
    "Congratulations! You did it again!\n",
    "\n",
    "The variable 'Pred_KNN' holds the predictions made by the algorithm. Now let's take a look at your performance using classification accuracy. "
   ]
  },
  {
   "cell_type": "code",
   "execution_count": 126,
   "metadata": {},
   "outputs": [
    {
     "name": "stdout",
     "output_type": "stream",
     "text": [
      "The K-Nearest Neighbors Classifier reached a Classification Accuracy of:  0.88\n"
     ]
    }
   ],
   "source": [
    "KNN_CA = accuracy_score(y_test, Pred_KNN) \n",
    "\n",
    "print('The K-Nearest Neighbors Classifier reached a Classification Accuracy of: ', KNN_CA)"
   ]
  },
  {
   "cell_type": "markdown",
   "metadata": {},
   "source": [
    "# Did you get a good score? \n",
    "\n",
    "By know you probably know the drill. Tuning the parameters might help to reach a better performance. For K-Nearest Neighbors the most important parameter is the number of neighbors taken into account. The code now says 'n_neighbors = 3'. Play around with the number to see if the model can be improved. \n"
   ]
  },
  {
   "cell_type": "markdown",
   "metadata": {},
   "source": [
    "## Evaluation \n",
    "\n",
    "What model eventually reached the highest classification accuracy? "
   ]
  },
  {
   "cell_type": "code",
   "execution_count": null,
   "metadata": {},
   "outputs": [],
   "source": [
    "print('The Decision Tree Classifier reached a Classification Accuracy of: ', DT_CA)\n",
    "print('The K-Nearest Neighbors Classifier reached a Classification Accuracy of: ', KNN_CA)"
   ]
  },
  {
   "cell_type": "markdown",
   "metadata": {},
   "source": [
    "## Question\n",
    "Is this test enough to determine which model has the best fit?\n",
    "Tip: change the values of the random_state in train/test split and in the decision tree model"
   ]
  }
 ],
 "metadata": {
  "kernelspec": {
   "display_name": "Python [default]",
   "language": "python",
   "name": "python3"
  },
  "language_info": {
   "codemirror_mode": {
    "name": "ipython",
    "version": 3
   },
   "file_extension": ".py",
   "mimetype": "text/x-python",
   "name": "python",
   "nbconvert_exporter": "python",
   "pygments_lexer": "ipython3",
   "version": "3.6.6"
  }
 },
 "nbformat": 4,
 "nbformat_minor": 2
}
